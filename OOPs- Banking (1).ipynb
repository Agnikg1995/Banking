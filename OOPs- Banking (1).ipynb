{
 "cells": [
  {
   "cell_type": "code",
   "execution_count": 1,
   "id": "3f67aa1e-ac2a-407f-a6d6-32febf61360a",
   "metadata": {},
   "outputs": [
    {
     "name": "stdout",
     "output_type": "stream",
     "text": [
      "\n",
      "Welcome to the Banking System!\n",
      "1. Login to an existing account\n",
      "2. Create a new account\n"
     ]
    },
    {
     "name": "stdin",
     "output_type": "stream",
     "text": [
      "Choose an option:  2\n",
      "Enter a new account number:  123\n",
      "Choose a username:  Agni\n",
      "Choose a password:  Agni1995\n",
      "Enter your name:  Agni\n"
     ]
    },
    {
     "name": "stdout",
     "output_type": "stream",
     "text": [
      "Account created for Agni with username Agni.\n"
     ]
    },
    {
     "name": "stdin",
     "output_type": "stream",
     "text": [
      "Do you want to continue? (yes/no):  yes\n"
     ]
    },
    {
     "name": "stdout",
     "output_type": "stream",
     "text": [
      "\n",
      "Welcome to the Banking System!\n",
      "1. Login to an existing account\n",
      "2. Create a new account\n"
     ]
    },
    {
     "name": "stdin",
     "output_type": "stream",
     "text": [
      "Choose an option:  1\n",
      "Enter your account number:  123\n",
      "Enter your password:  Agni1995\n"
     ]
    },
    {
     "name": "stdout",
     "output_type": "stream",
     "text": [
      "\n",
      "1. Deposit\n",
      "2. Withdraw\n",
      "3. Check Balance\n",
      "4. Exit\n"
     ]
    },
    {
     "name": "stdin",
     "output_type": "stream",
     "text": [
      "Choose an option:  1\n",
      "Enter amount to deposit:  1000\n"
     ]
    },
    {
     "name": "stdout",
     "output_type": "stream",
     "text": [
      "Successfully deposited $1000.0. New balance: $1000.0.\n",
      "\n",
      "1. Deposit\n",
      "2. Withdraw\n",
      "3. Check Balance\n",
      "4. Exit\n"
     ]
    },
    {
     "name": "stdin",
     "output_type": "stream",
     "text": [
      "Choose an option:  2\n",
      "Enter amount to withdraw:  100.3\n"
     ]
    },
    {
     "name": "stdout",
     "output_type": "stream",
     "text": [
      "Successfully withdrew $100.3. New balance: $899.7.\n",
      "\n",
      "1. Deposit\n",
      "2. Withdraw\n",
      "3. Check Balance\n",
      "4. Exit\n"
     ]
    },
    {
     "name": "stdin",
     "output_type": "stream",
     "text": [
      "Choose an option:  3\n"
     ]
    },
    {
     "name": "stdout",
     "output_type": "stream",
     "text": [
      "Current balance: $899.7\n",
      "\n",
      "1. Deposit\n",
      "2. Withdraw\n",
      "3. Check Balance\n",
      "4. Exit\n"
     ]
    },
    {
     "name": "stdin",
     "output_type": "stream",
     "text": [
      "Choose an option:  4\n",
      "Do you want to continue? (yes/no):  no\n"
     ]
    }
   ],
   "source": [
    "class BankAccount:\n",
    "    def __init__(self, account_number, username, password, account_holder, balance=0):\n",
    "        self.account_number = account_number\n",
    "        self.username = username\n",
    "        self.password = password  # Password attribute\n",
    "        self.account_holder = account_holder\n",
    "        self.balance = balance\n",
    "\n",
    "    def deposit(self, amount):\n",
    "        if amount > 0:\n",
    "            self.balance += amount\n",
    "            print(f\"Successfully deposited ${amount}. New balance: ${self.balance}.\")\n",
    "        else:\n",
    "            print(\"Deposit amount must be positive.\")\n",
    "\n",
    "    def withdraw(self, amount):\n",
    "        if 0 < amount <= self.balance:\n",
    "            self.balance -= amount\n",
    "            print(f\"Successfully withdrew ${amount}. New balance: ${self.balance}.\")\n",
    "        else:\n",
    "            print(\"Withdrawal amount exceeds balance or is invalid.\")\n",
    "\n",
    "    def get_balance(self):\n",
    "        return self.balance\n",
    "\n",
    "    def display_account_info(self):\n",
    "        print(f\"Account Number: {self.account_number}\")\n",
    "        print(f\"Account Holder: {self.account_holder}\")\n",
    "        print(f\"Current Balance: ${self.balance}\")\n",
    "\n",
    "\n",
    "class BankSystem:\n",
    "    def __init__(self):\n",
    "        self.accounts = {}\n",
    "\n",
    "    def create_account(self, account_number, username, password, account_holder):\n",
    "        if account_number not in self.accounts:\n",
    "            if username not in [account.username for account in self.accounts.values()]:\n",
    "                self.accounts[account_number] = BankAccount(account_number, username, password, account_holder)\n",
    "                print(f\"Account created for {account_holder} with username {username}.\")\n",
    "            else:\n",
    "                print(\"Username already exists. Please choose a different username.\")\n",
    "        else:\n",
    "            print(\"Account number already exists.\")\n",
    "\n",
    "    def login(self, account_number, password):\n",
    "        if account_number in self.accounts:\n",
    "            account = self.accounts[account_number]\n",
    "            if account.password == password:\n",
    "                return account\n",
    "            else:\n",
    "                print(\"Incorrect password.\")\n",
    "                return None\n",
    "        else:\n",
    "            print(\"Account not found.\")\n",
    "            return None\n",
    "\n",
    "\n",
    "def main():\n",
    "    bank_system = BankSystem()\n",
    "\n",
    "    while True:\n",
    "        print(\"\\nWelcome to the Banking System!\")\n",
    "        print(\"1. Login to an existing account\")\n",
    "        print(\"2. Create a new account\")\n",
    "        choice = input(\"Choose an option: \")\n",
    "\n",
    "        if choice == '1':\n",
    "            account_number = input(\"Enter your account number: \")\n",
    "            password = input(\"Enter your password: \")\n",
    "            account = bank_system.login(account_number, password)\n",
    "\n",
    "            if account:\n",
    "                while True:\n",
    "                    print(\"\\n1. Deposit\\n2. Withdraw\\n3. Check Balance\\n4. Exit\")\n",
    "                    option = input(\"Choose an option: \")\n",
    "\n",
    "                    if option == '1':\n",
    "                        amount = float(input(\"Enter amount to deposit: \"))\n",
    "                        account.deposit(amount)\n",
    "                    elif option == '2':\n",
    "                        amount = float(input(\"Enter amount to withdraw: \"))\n",
    "                        account.withdraw(amount)\n",
    "                    elif option == '3':\n",
    "                        print(f\"Current balance: ${account.get_balance()}\")\n",
    "                    elif option == '4':\n",
    "                        break\n",
    "                    else:\n",
    "                        print(\"Invalid option.\")\n",
    "\n",
    "        elif choice == '2':\n",
    "            account_number = input(\"Enter a new account number: \")\n",
    "            username = input(\"Choose a username: \")\n",
    "            password = input(\"Choose a password: \")\n",
    "            account_holder = input(\"Enter your name: \")\n",
    "            bank_system.create_account(account_number, username, password, account_holder)\n",
    "\n",
    "        else:\n",
    "            print(\"Invalid option.\")\n",
    "\n",
    "        cont = input(\"Do you want to continue? (yes/no): \")\n",
    "        if cont.lower() != 'yes':\n",
    "            break\n",
    "\n",
    "\n",
    "if __name__ == \"__main__\":\n",
    "    main()\n",
    "\n"
   ]
  }
 ],
 "metadata": {
  "kernelspec": {
   "display_name": "Python 3 (ipykernel)",
   "language": "python",
   "name": "python3"
  },
  "language_info": {
   "codemirror_mode": {
    "name": "ipython",
    "version": 3
   },
   "file_extension": ".py",
   "mimetype": "text/x-python",
   "name": "python",
   "nbconvert_exporter": "python",
   "pygments_lexer": "ipython3",
   "version": "3.12.4"
  }
 },
 "nbformat": 4,
 "nbformat_minor": 5
}
